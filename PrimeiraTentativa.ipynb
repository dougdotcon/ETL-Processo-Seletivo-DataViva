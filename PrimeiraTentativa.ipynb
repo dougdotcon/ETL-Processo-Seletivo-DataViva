{
  "nbformat": 4,
  "nbformat_minor": 0,
  "metadata": {
    "colab": {
      "provenance": [],
      "collapsed_sections": [
        "k1c7cJPCuwDH",
        "UH70q5bKuyu2",
        "Y5C2YykfwkmX"
      ]
    },
    "kernelspec": {
      "name": "python3",
      "display_name": "Python 3"
    },
    "language_info": {
      "name": "python"
    }
  },
  "cells": [
    {
      "cell_type": "markdown",
      "source": [
        "#Relatório do Processo de ETL com Dados da RAIS\n"
      ],
      "metadata": {
        "id": "k1c7cJPCuwDH"
      }
    },
    {
      "cell_type": "markdown",
      "source": [
        "### Introdução\n",
        "\n",
        "Este relatório detalha as etapas seguidas, as dificuldades encontradas e as correções aplicadas durante o processo de Extração, Transformação e Carregamento (ETL) de dados da Relação Anual de Informações Sociais (RAIS) para a Região Norte do Brasil, referentes ao ano de 2021. O objetivo principal foi preparar os dados para análises futuras, especificamente para identificar as 5 atividades e os 5 municípios que mais empregam na região.\n",
        "\n",
        "### Extração dos Dados\n",
        "\n",
        "O processo começou com a extração dos dados necessários do servidor FTP do Ministério do Trabalho e Emprego. Utilizei o FileZilla para acessar o servidor e baixar o arquivo da RAIS da Região Norte de 2021, além do arquivo de layout para a interpretação correta dos dados.\n",
        "\n",
        "### Tratamento dos Dados\n",
        "\n",
        "Com os arquivos baixados, procedi ao tratamento dos dados utilizando o Pandas em um Jupyter Notebook no Google Colab. Após carregar os dados do arquivo `RAIS_VINC_PUB_NORTE.txt`, realizei as seguintes operações:\n",
        "\n",
        "1. **Filtragem dos Dados**: Removi os registros onde a variável \"EMP EM 31/12\" era igual a 0, indicando pessoas que não estavam empregadas no final do ano. Contudo, enfrentei um problema ao aplicar este filtro, devido a um erro de `KeyError`, que se revelou ser um equívoco na identificação da coluna correta. A coluna correta era \"Vínculo Ativo 31/12\".\n",
        "\n",
        "2. **Criação da Nova Variável**: Tentei criar a variável \"DIV CNAE 20\" a partir dos dois primeiros dígitos da \"CLAS CNAE 20\". No entanto, houve um erro na aplicação desta operação, decorrente de uma confusão nas colunas utilizadas.\n",
        "\n",
        "### Carregamento dos Dados\n",
        "\n",
        "Antes de realizar o carregamento dos dados para um banco de dados MySQL, iniciei a modelagem da tabela `dados_rais` no MySQL Workbench. Aqui, defini as colunas com base nos dados disponíveis e seus tipos, mas enfrentei dificuldades em ajustar corretamente os tipos de dados e as dimensões das colunas `VARCHAR`, além de identificar as colunas que deveriam permitir valores nulos.\n",
        "\n",
        "### Erros e Correções\n",
        "\n",
        "- **Erro de `KeyError` na Filtragem dos Dados**: O erro foi causado por uma referência incorreta ao nome da coluna. A correção envolveu a utilização do nome correto da coluna, \"Vínculo Ativo 31/12\".\n",
        "\n",
        "- **Problema na Criação da Variável \"DIV CNAE 20\"**: A dificuldade na criação desta variável foi superada após corrigir a referência à coluna correta e garantir a correta transformação dos dados para string antes de aplicar a extração dos dois primeiros dígitos.\n",
        "\n",
        "- **Modelagem da Tabela no Banco de Dados**: Ajustes foram necessários para alinhar os tipos de dados e tamanhos das colunas `VARCHAR` com os dados processados, além de considerar a utilização de `DECIMAL` em vez de `FLOAT` para valores monetários, visando uma maior precisão.\n",
        "\n",
        "### Conclusão\n",
        "\n",
        "Apesar dos desafios encontrados, o processo de ETL proporcionou uma valiosa experiência de aprendizado em manipulação, tratamento e preparação de dados para análise. As dificuldades enfrentadas destacaram a importância de uma verificação cuidadosa dos nomes das colunas, a precisão na definição dos tipos de dados e a necessidade de uma análise exploratória para guiar as decisões de modelagem de dados. Ao reiniciar o processo em outro notebook, apliquei as correções necessárias, alcançando os resultados esperados e preparando o terreno para as análises subsequentes."
      ],
      "metadata": {
        "id": "gGzxkKoyuxpV"
      }
    },
    {
      "cell_type": "markdown",
      "source": [
        "## Justificativa"
      ],
      "metadata": {
        "id": "UH70q5bKuyu2"
      }
    },
    {
      "cell_type": "markdown",
      "source": [
        "Escolhi o MySQL Workbench por limitações tecnológicas, a máquina que eu tinha disponivel estava com pouco espaço de armazenamento e já tinha MySQL instalado, como é apenas um processo seletivo concluí que tudo que o MySQL me oferece tudo que seria necessário para realizar as tarefas, como desempenho e escalabilidade, qualquer duvida que eu tivesse já conheço a comunidade e consigo resolver os problemas que encontrar.\n",
        "\n",
        "Pelas minhas pesquisas, o MySQL não oferece todas as funcionalidades avançadas que o  PostgreeSQL oferece, mas é perfeito pra alguém que está em fase de aprendizado, mesmo que o PostgreSQL ofereça o MVCC."
      ],
      "metadata": {
        "id": "pHXui660fPb6"
      }
    },
    {
      "cell_type": "markdown",
      "source": [
        "#Processo de ETL com Dados da RAIS"
      ],
      "metadata": {
        "id": "Y5C2YykfwkmX"
      }
    },
    {
      "cell_type": "code",
      "execution_count": null,
      "metadata": {
        "colab": {
          "base_uri": "https://localhost:8080/"
        },
        "id": "DEGIauFwZ9i-",
        "outputId": "83abb2e5-2c8c-4430-b186-1b9ca100e4fe"
      },
      "outputs": [
        {
          "output_type": "stream",
          "name": "stdout",
          "text": [
            "Arquivo lido com sucesso!\n"
          ]
        }
      ],
      "source": [
        "import pandas as pd\n",
        "\n",
        "caminho_do_arquivo = '/content/RAIS_VINC_PUB_NORTE.txt'\n",
        "\n",
        "try:\n",
        "    dados = pd.read_csv(caminho_do_arquivo, sep=';', encoding='latin1', low_memory=False)\n",
        "    print('Arquivo lido com sucesso!')\n",
        "except Exception as e:\n",
        "    print(f'Erro ao ler o arquivo: {e}')\n"
      ]
    },
    {
      "cell_type": "code",
      "source": [
        "print(dados.columns)"
      ],
      "metadata": {
        "colab": {
          "base_uri": "https://localhost:8080/"
        },
        "id": "pRGv5E2ddPDH",
        "outputId": "ac915991-5965-4e19-9ec3-92aebed2cc07"
      },
      "execution_count": null,
      "outputs": [
        {
          "output_type": "stream",
          "name": "stdout",
          "text": [
            "Index(['Bairros SP', 'Bairros Fortaleza', 'Bairros RJ', 'Causa Afastamento 1',\n",
            "       'Causa Afastamento 2', 'Causa Afastamento 3', 'Motivo Desligamento',\n",
            "       'CBO Ocupação 2002', 'CNAE 2.0 Classe', 'CNAE 95 Classe',\n",
            "       'Distritos SP', 'Vínculo Ativo 31/12', 'Faixa Etária',\n",
            "       'Faixa Hora Contrat', 'Faixa Remun Dezem (SM)',\n",
            "       'Faixa Remun Média (SM)', 'Faixa Tempo Emprego',\n",
            "       'Escolaridade após 2005', 'Qtd Hora Contr', 'Idade',\n",
            "       'Ind CEI Vinculado', 'Ind Simples', 'Mês Admissão', 'Mês Desligamento',\n",
            "       'Mun Trab', 'Município', 'Nacionalidade', 'Natureza Jurídica',\n",
            "       'Ind Portador Defic', 'Qtd Dias Afastamento', 'Raça Cor',\n",
            "       'Regiões Adm DF', 'Vl Remun Dezembro Nom', 'Vl Remun Dezembro (SM)',\n",
            "       'Vl Remun Média Nom', 'Vl Remun Média (SM)', 'CNAE 2.0 Subclasse',\n",
            "       'Sexo Trabalhador', 'Tamanho Estabelecimento', 'Tempo Emprego',\n",
            "       'Tipo Admissão', 'Tipo Estab', 'Tipo Estab.1', 'Tipo Defic',\n",
            "       'Tipo Vínculo', 'IBGE Subsetor', 'Vl Rem Janeiro SC',\n",
            "       'Vl Rem Fevereiro SC', 'Vl Rem Março SC', 'Vl Rem Abril SC',\n",
            "       'Vl Rem Maio SC', 'Vl Rem Junho SC', 'Vl Rem Julho SC',\n",
            "       'Vl Rem Agosto SC', 'Vl Rem Setembro SC', 'Vl Rem Outubro SC',\n",
            "       'Vl Rem Novembro SC', 'Ano Chegada Brasil', 'Ind Trab Intermitente',\n",
            "       'Ind Trab Parcial'],\n",
            "      dtype='object')\n"
          ]
        }
      ]
    },
    {
      "cell_type": "code",
      "source": [
        "dados_filtrados = dados[dados['Vínculo Ativo 31/12'] != 0]\n",
        "print(f'Registros antes da filtragem: {len(dados)}, após filtragem: {len(dados_filtrados)}')"
      ],
      "metadata": {
        "colab": {
          "base_uri": "https://localhost:8080/"
        },
        "id": "2dOAjft_dAqQ",
        "outputId": "d9d27ea1-f082-4875-9c62-8089488a9587"
      },
      "execution_count": null,
      "outputs": [
        {
          "output_type": "stream",
          "name": "stdout",
          "text": [
            "Registros antes da filtragem: 4296, após filtragem: 0\n"
          ]
        }
      ]
    },
    {
      "cell_type": "code",
      "source": [
        "dados_filtrados['DIV CNAE 20'] = dados_filtrados['CNAE 2.0 Classe'].astype(str).apply(lambda x: x[:2] if pd.notnull(x) else x)\n",
        "print('Nova variável criada com sucesso!')"
      ],
      "metadata": {
        "colab": {
          "base_uri": "https://localhost:8080/"
        },
        "id": "ZlNqsNL2dDKf",
        "outputId": "ef840d8d-4c62-4fe6-a9b2-473129f2be1a"
      },
      "execution_count": null,
      "outputs": [
        {
          "output_type": "stream",
          "name": "stdout",
          "text": [
            "Nova variável criada com sucesso!\n"
          ]
        }
      ]
    },
    {
      "cell_type": "code",
      "source": [
        "print(dados_filtrados.dtypes)"
      ],
      "metadata": {
        "colab": {
          "base_uri": "https://localhost:8080/"
        },
        "id": "yIHHEIm4hR7S",
        "outputId": "449195cb-35ad-40e1-973d-df39ca3fa4da"
      },
      "execution_count": null,
      "outputs": [
        {
          "output_type": "stream",
          "name": "stdout",
          "text": [
            "Bairros SP                object\n",
            "Bairros Fortaleza         object\n",
            "Bairros RJ                object\n",
            "Causa Afastamento 1        int64\n",
            "Causa Afastamento 2        int64\n",
            "                          ...   \n",
            "Vl Rem Novembro SC        object\n",
            "Ano Chegada Brasil       float64\n",
            "Ind Trab Intermitente    float64\n",
            "Ind Trab Parcial         float64\n",
            "DIV CNAE 20               object\n",
            "Length: 61, dtype: object\n"
          ]
        }
      ]
    },
    {
      "cell_type": "code",
      "source": [
        "max_length_bairros_sp = dados_filtrados['Bairros SP'].astype(str).map(len).max()\n",
        "max_length_bairros_fortaleza = dados_filtrados['Bairros Fortaleza'].astype(str).map(len).max()\n",
        "max_length_bairros_rj = dados_filtrados['Bairros RJ'].astype(str).map(len).max()\n",
        "max_length_div_cnae_20 = dados_filtrados['DIV CNAE 20'].astype(str).map(len).max()\n",
        "\n",
        "print(f\"Comprimento máximo para Bairros SP: {max_length_bairros_sp}\")\n",
        "print(f\"Comprimento máximo para Bairros Fortaleza: {max_length_bairros_fortaleza}\")\n",
        "print(f\"Comprimento máximo para Bairros RJ: {max_length_bairros_rj}\")\n",
        "print(f\"Comprimento máximo para DIV CNAE 20: {max_length_div_cnae_20}\")"
      ],
      "metadata": {
        "colab": {
          "base_uri": "https://localhost:8080/"
        },
        "id": "B6TXCrYliMwv",
        "outputId": "cd2b6a9b-4bab-4bdc-d79c-7b6c68481399"
      },
      "execution_count": null,
      "outputs": [
        {
          "output_type": "stream",
          "name": "stdout",
          "text": [
            "Comprimento máximo para Bairros SP: nan\n",
            "Comprimento máximo para Bairros Fortaleza: nan\n",
            "Comprimento máximo para Bairros RJ: nan\n",
            "Comprimento máximo para DIV CNAE 20: nan\n"
          ]
        }
      ]
    },
    {
      "cell_type": "code",
      "source": [
        "dados_filtrados['DIV CNAE 20'] = dados_filtrados['CNAE 2.0 Classe'].astype(str).apply(lambda x: x[:2] if pd.notnull(x) else x)\n"
      ],
      "metadata": {
        "id": "5hWXwFzDlQ33"
      },
      "execution_count": null,
      "outputs": []
    },
    {
      "cell_type": "code",
      "source": [
        "max_length_bairros_sp = dados_filtrados['Bairros SP'].astype(str).map(len).max()\n",
        "max_length_bairros_fortaleza = dados_filtrados['Bairros Fortaleza'].astype(str).map(len).max()\n",
        "max_length_bairros_rj = dados_filtrados['Bairros RJ'].astype(str).map(len).max()\n",
        "max_length_div_cnae_20 = dados_filtrados['DIV CNAE 20'].astype(str).map(len).max()\n",
        "\n",
        "print(f\"Comprimento máximo para Bairros SP: {max_length_bairros_sp}\")\n",
        "print(f\"Comprimento máximo para Bairros Fortaleza: {max_length_bairros_fortaleza}\")\n",
        "print(f\"Comprimento máximo para Bairros RJ: {max_length_bairros_rj}\")\n",
        "print(f\"Comprimento máximo para DIV CNAE 20: {max_length_div_cnae_20}\")"
      ],
      "metadata": {
        "colab": {
          "base_uri": "https://localhost:8080/"
        },
        "id": "s1HR_V0vlUPK",
        "outputId": "455125fa-3677-4566-f442-6764d60b787d"
      },
      "execution_count": null,
      "outputs": [
        {
          "output_type": "stream",
          "name": "stdout",
          "text": [
            "Comprimento máximo para Bairros SP: nan\n",
            "Comprimento máximo para Bairros Fortaleza: nan\n",
            "Comprimento máximo para Bairros RJ: nan\n",
            "Comprimento máximo para DIV CNAE 20: nan\n"
          ]
        }
      ]
    },
    {
      "cell_type": "code",
      "source": [
        "print(dados_filtrados.dtypes)"
      ],
      "metadata": {
        "colab": {
          "base_uri": "https://localhost:8080/"
        },
        "id": "z7FMFyDakTYX",
        "outputId": "0fa0d17e-e8e6-4120-fbd5-1e469ce4fb1b"
      },
      "execution_count": null,
      "outputs": [
        {
          "output_type": "stream",
          "name": "stdout",
          "text": [
            "Bairros SP                object\n",
            "Bairros Fortaleza         object\n",
            "Bairros RJ                object\n",
            "Causa Afastamento 1        int64\n",
            "Causa Afastamento 2        int64\n",
            "                          ...   \n",
            "Vl Rem Novembro SC        object\n",
            "Ano Chegada Brasil       float64\n",
            "Ind Trab Intermitente    float64\n",
            "Ind Trab Parcial         float64\n",
            "DIV CNAE 20               object\n",
            "Length: 61, dtype: object\n"
          ]
        }
      ]
    },
    {
      "cell_type": "code",
      "source": [
        "print(dados_filtrados.isnull().sum())"
      ],
      "metadata": {
        "colab": {
          "base_uri": "https://localhost:8080/"
        },
        "id": "ctvoFPGPkgvr",
        "outputId": "a27c42bb-2a4f-485d-87d0-e787d8e842ce"
      },
      "execution_count": null,
      "outputs": [
        {
          "output_type": "stream",
          "name": "stdout",
          "text": [
            "Bairros SP               0.0\n",
            "Bairros Fortaleza        0.0\n",
            "Bairros RJ               0.0\n",
            "Causa Afastamento 1      0.0\n",
            "Causa Afastamento 2      0.0\n",
            "                        ... \n",
            "Vl Rem Novembro SC       0.0\n",
            "Ano Chegada Brasil       0.0\n",
            "Ind Trab Intermitente    0.0\n",
            "Ind Trab Parcial         0.0\n",
            "DIV CNAE 20              0.0\n",
            "Length: 61, dtype: float64\n"
          ]
        }
      ]
    },
    {
      "cell_type": "code",
      "source": [
        "print(dados_filtrados['DIV CNAE 20'].unique())"
      ],
      "metadata": {
        "colab": {
          "base_uri": "https://localhost:8080/"
        },
        "id": "tXZUK0v2klXH",
        "outputId": "d9de0e41-fd73-489f-9287-ad0b3e8b8ff0"
      },
      "execution_count": null,
      "outputs": [
        {
          "output_type": "stream",
          "name": "stdout",
          "text": [
            "[]\n"
          ]
        }
      ]
    },
    {
      "cell_type": "markdown",
      "source": [
        "\n",
        "\n",
        "### Passo 4: Análises\n",
        "\n",
        "Com os dados no MySQL, você realizará consultas SQL para encontrar as 5 principais atividades e os 5 principais municípios que mais empregam na Região Norte. Aqui está um exemplo de como construir essas consultas:\n",
        "\n",
        "```sql\n",
        "-- As 5 principais atividades\n",
        "SELECT `DIV CNAE 20`, COUNT(*) as TotalEmpregos\n",
        "FROM sua_tabela\n",
        "GROUP BY `DIV CNAE 20`\n",
        "ORDER BY TotalEmpregos DESC\n",
        "LIMIT 5;\n",
        "\n",
        "-- Os 5 principais municípios\n",
        "SELECT Município, COUNT(*) as TotalEmpregos\n",
        "FROM sua_tabela\n",
        "GROUP BY Município\n",
        "ORDER BY TotalEmpregos DESC\n",
        "LIMIT 5;\n",
        "```\n",
        "\n",
        "### Passo 5: Documentação e Justificativas\n",
        "\n",
        "Certifique-se de documentar cada etapa do processo, incluindo o código utilizado para carregar os dados no MySQL, as consultas SQL realizadas, e as justificativas para as escolhas técnicas feitas, como a escolha do MySQL e a modelagem da tabela.\n",
        "\n",
        "Com essas etapas, você estará bem posicionado para completar o teste de estágio em Engenharia de Dados com sucesso. Se precisar de ajuda em qualquer uma dessas etapas, por favor, não hesite em perguntar!"
      ],
      "metadata": {
        "id": "2oPdsQUWx0gP"
      }
    }
  ]
}