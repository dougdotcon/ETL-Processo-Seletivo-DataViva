{
  "nbformat": 4,
  "nbformat_minor": 0,
  "metadata": {
    "colab": {
      "provenance": [],
      "collapsed_sections": [
        "CFTlc6oczv9e",
        "TKHXn8qcXfNk",
        "ux90Tmyv0Fc5"
      ]
    },
    "kernelspec": {
      "name": "python3",
      "display_name": "Python 3"
    },
    "language_info": {
      "name": "python"
    }
  },
  "cells": [
    {
      "cell_type": "markdown",
      "source": [
        "#Terceira Tentativa do Processo de ETL com Dados da RAIS\n"
      ],
      "metadata": {
        "id": "du2Ygvqozsp-"
      }
    },
    {
      "cell_type": "markdown",
      "source": [
        "#Processo de ETL com Dados da RAIS"
      ],
      "metadata": {
        "id": "CFTlc6oczv9e"
      }
    },
    {
      "cell_type": "code",
      "execution_count": null,
      "metadata": {
        "colab": {
          "base_uri": "https://localhost:8080/"
        },
        "id": "YQz7JdrjpCVJ",
        "outputId": "c49575d4-0ea6-4896-82fd-4791a48bba67"
      },
      "outputs": [
        {
          "output_type": "stream",
          "name": "stdout",
          "text": [
            "Arquivo lido com sucesso!\n"
          ]
        }
      ],
      "source": [
        "import pandas as pd\n",
        "\n",
        "caminho_do_arquivo = '/content/RAIS_VINC_PUB_NORTE.txt'\n",
        "\n",
        "try:\n",
        "    dados = pd.read_csv(caminho_do_arquivo, sep=';', encoding='latin1', low_memory=False)\n",
        "    print('Arquivo lido com sucesso!')\n",
        "except Exception as e:\n",
        "    print(f'Erro ao ler o arquivo: {e}')"
      ]
    },
    {
      "cell_type": "code",
      "source": [
        "print(dados.columns)"
      ],
      "metadata": {
        "colab": {
          "base_uri": "https://localhost:8080/"
        },
        "id": "1JBUfBXlpXbH",
        "outputId": "7856b4c8-71e0-4988-ba70-2c4e16837e30"
      },
      "execution_count": null,
      "outputs": [
        {
          "output_type": "stream",
          "name": "stdout",
          "text": [
            "Index(['Bairros SP', 'Bairros Fortaleza', 'Bairros RJ', 'Causa Afastamento 1',\n",
            "       'Causa Afastamento 2', 'Causa Afastamento 3', 'Motivo Desligamento',\n",
            "       'CBO Ocupação 2002', 'CNAE 2.0 Classe', 'CNAE 95 Classe',\n",
            "       'Distritos SP', 'Vínculo Ativo 31/12', 'Faixa Etária',\n",
            "       'Faixa Hora Contrat', 'Faixa Remun Dezem (SM)',\n",
            "       'Faixa Remun Média (SM)', 'Faixa Tempo Emprego',\n",
            "       'Escolaridade após 2005', 'Qtd Hora Contr', 'Idade',\n",
            "       'Ind CEI Vinculado', 'Ind Simples', 'Mês Admissão', 'Mês Desligamento',\n",
            "       'Mun Trab', 'Município', 'Nacionalidade', 'Natureza Jurídica',\n",
            "       'Ind Portador Defic', 'Qtd Dias Afastamento', 'Raça Cor',\n",
            "       'Regiões Adm DF', 'Vl Remun Dezembro Nom', 'Vl Remun Dezembro (SM)',\n",
            "       'Vl Remun Média Nom', 'Vl Remun Média (SM)', 'CNAE 2.0 Subclasse',\n",
            "       'Sexo Trabalhador', 'Tamanho Estabelecimento', 'Tempo Emprego',\n",
            "       'Tipo Admissão', 'Tipo Estab', 'Tipo Estab.1', 'Tipo Defic',\n",
            "       'Tipo Vínculo', 'IBGE Subsetor', 'Vl Rem Janeiro SC',\n",
            "       'Vl Rem Fevereiro SC', 'Vl Rem Março SC', 'Vl Rem Abril SC',\n",
            "       'Vl Rem Maio SC', 'Vl Rem Junho SC', 'Vl Rem Julho SC',\n",
            "       'Vl Rem Agosto SC', 'Vl Rem Setembro SC', 'Vl Rem Outubro SC',\n",
            "       'Vl Rem Novembro SC', 'Ano Chegada Brasil', 'Ind Trab Intermitente',\n",
            "       'Ind Trab Parcial'],\n",
            "      dtype='object')\n"
          ]
        }
      ]
    },
    {
      "cell_type": "code",
      "source": [
        "dados_filtrados = dados[dados['Vínculo Ativo 31/12'] != 0]\n",
        "print(f'Registros antes da filtragem: {len(dados)}, após filtragem: {len(dados_filtrados)}')"
      ],
      "metadata": {
        "colab": {
          "base_uri": "https://localhost:8080/"
        },
        "id": "AEJMCo3GpYbP",
        "outputId": "210762a9-70db-4d6c-bc88-3592bb7862bd"
      },
      "execution_count": null,
      "outputs": [
        {
          "output_type": "stream",
          "name": "stdout",
          "text": [
            "Registros antes da filtragem: 300819, após filtragem: 157636\n"
          ]
        }
      ]
    },
    {
      "cell_type": "code",
      "source": [
        "dados_filtrados['DIV CNAE 20'] = dados_filtrados['CNAE 2.0 Classe'].astype(str).apply(lambda x: x[:2] if pd.notnull(x) else x)\n",
        "print('Nova variável criada com sucesso!')"
      ],
      "metadata": {
        "colab": {
          "base_uri": "https://localhost:8080/"
        },
        "id": "3TICahGipZGO",
        "outputId": "7a6f0b24-3eb3-4b60-9b35-c10f168ee0b8"
      },
      "execution_count": null,
      "outputs": [
        {
          "output_type": "stream",
          "name": "stdout",
          "text": [
            "Nova variável criada com sucesso!\n"
          ]
        },
        {
          "output_type": "stream",
          "name": "stderr",
          "text": [
            "<ipython-input-5-0e09a115135c>:1: SettingWithCopyWarning: \n",
            "A value is trying to be set on a copy of a slice from a DataFrame.\n",
            "Try using .loc[row_indexer,col_indexer] = value instead\n",
            "\n",
            "See the caveats in the documentation: https://pandas.pydata.org/pandas-docs/stable/user_guide/indexing.html#returning-a-view-versus-a-copy\n",
            "  dados_filtrados['DIV CNAE 20'] = dados_filtrados['CNAE 2.0 Classe'].astype(str).apply(lambda x: x[:2] if pd.notnull(x) else x)\n"
          ]
        }
      ]
    },
    {
      "cell_type": "code",
      "source": [
        "print(dados_filtrados.dtypes)"
      ],
      "metadata": {
        "colab": {
          "base_uri": "https://localhost:8080/"
        },
        "id": "tLgt2r1ppZ6u",
        "outputId": "c54ce5be-1e1a-402c-b036-43045c3e2dc3"
      },
      "execution_count": null,
      "outputs": [
        {
          "output_type": "stream",
          "name": "stdout",
          "text": [
            "Bairros SP                object\n",
            "Bairros Fortaleza         object\n",
            "Bairros RJ                object\n",
            "Causa Afastamento 1        int64\n",
            "Causa Afastamento 2        int64\n",
            "                          ...   \n",
            "Vl Rem Novembro SC        object\n",
            "Ano Chegada Brasil       float64\n",
            "Ind Trab Intermitente    float64\n",
            "Ind Trab Parcial         float64\n",
            "DIV CNAE 20               object\n",
            "Length: 61, dtype: object\n"
          ]
        }
      ]
    },
    {
      "cell_type": "code",
      "source": [
        "max_length_bairros_sp = dados_filtrados['Bairros SP'].astype(str).map(len).max()\n",
        "max_length_bairros_fortaleza = dados_filtrados['Bairros Fortaleza'].astype(str).map(len).max()\n",
        "max_length_bairros_rj = dados_filtrados['Bairros RJ'].astype(str).map(len).max()\n",
        "max_length_div_cnae_20 = dados_filtrados['DIV CNAE 20'].astype(str).map(len).max()\n",
        "\n",
        "print(f\"Comprimento máximo para Bairros SP: {max_length_bairros_sp}\")\n",
        "print(f\"Comprimento máximo para Bairros Fortaleza: {max_length_bairros_fortaleza}\")\n",
        "print(f\"Comprimento máximo para Bairros RJ: {max_length_bairros_rj}\")\n",
        "print(f\"Comprimento máximo para DIV CNAE 20: {max_length_div_cnae_20}\")"
      ],
      "metadata": {
        "colab": {
          "base_uri": "https://localhost:8080/"
        },
        "id": "MKJ92VAbpacZ",
        "outputId": "50dd8f7a-e1e2-4f0e-bac2-732d28f249dc"
      },
      "execution_count": null,
      "outputs": [
        {
          "output_type": "stream",
          "name": "stdout",
          "text": [
            "Comprimento máximo para Bairros SP: 20\n",
            "Comprimento máximo para Bairros Fortaleza: 20\n",
            "Comprimento máximo para Bairros RJ: 20\n",
            "Comprimento máximo para DIV CNAE 20: 2\n"
          ]
        }
      ]
    },
    {
      "cell_type": "markdown",
      "source": [
        "#Analisando Layout"
      ],
      "metadata": {
        "id": "TKHXn8qcXfNk"
      }
    },
    {
      "cell_type": "code",
      "source": [
        "import pandas as pd\n",
        "\n",
        "layout_path = '/content/RAIS_vinculos_layout2020.xls'\n",
        "\n",
        "# Tentar ler o arquivo de layout\n",
        "try:\n",
        "    layout_df = pd.read_excel(layout_path, sheet_name=0)\n",
        "    print(layout_df.head())\n",
        "except Exception as e:\n",
        "    print(f\"Erro ao ler o arquivo: {e}\")"
      ],
      "metadata": {
        "colab": {
          "base_uri": "https://localhost:8080/"
        },
        "id": "iVU6EIQQXgLC",
        "outputId": "901b2925-775e-4a57-f5bf-63ae8332f99e"
      },
      "execution_count": null,
      "outputs": [
        {
          "output_type": "stream",
          "name": "stdout",
          "text": [
            "                                  RAIS TRABALHADOR    \\\n",
            "0     (arquivos com separador ponto e virgula - \";\")   \n",
            "1  OBS: ao encontrar dados como \"-1\",  com ou sem...   \n",
            "2                                               Nome   \n",
            "3                                          BAIRRO_SP   \n",
            "4                                        BAIRRO FORT   \n",
            "\n",
            "                          Unnamed: 1         Unnamed: 2  \\\n",
            "0                                NaN                NaN   \n",
            "1                                NaN                NaN   \n",
            "2              Descricao da Variável  Tamanho(em bytes)   \n",
            "3  Bairros do Municipio de São Paulo                  4   \n",
            "4  Bairros do município de Fortaleza                  4   \n",
            "\n",
            "                                          Unnamed: 3      Unnamed: 4  \\\n",
            "0                                                NaN             NaN   \n",
            "1                                                NaN             NaN   \n",
            "2                                         Categorias  Valor na Fonte   \n",
            "3  (ver planilha correspondente contida neste arq...             NaN   \n",
            "4  (ver planilha correspondente contida neste arq...             NaN   \n",
            "\n",
            "  Unnamed: 5  \n",
            "0        NaN  \n",
            "1        NaN  \n",
            "2        NaN  \n",
            "3        NaN  \n",
            "4        NaN  \n"
          ]
        }
      ]
    },
    {
      "cell_type": "markdown",
      "source": [
        "Com base no resultado fornecido, agora podemos entender a estrutura do layout do arquivo da RAIS para trabalhadores.\n",
        "\n",
        "- **Nome**: A primeira coluna indica o nome da variável tal como aparecerá no arquivo de dados. Por exemplo, `BAIRRO_SP` e `BAIRRO FORT` se referem a bairros do município de São Paulo e Fortaleza, respectivamente.\n",
        "- **Descrição da Variável**: A segunda coluna fornece uma descrição mais detalhada de cada variável.\n",
        "- **Tamanho (em bytes)**: A terceira coluna indica o tamanho de cada variável em bytes.\n",
        "- **Categorias**: A quarta coluna menciona que para algumas variáveis, como bairros, pode haver uma planilha correspondente contendo mais detalhes, como categorias ou códigos utilizados para representar os dados.\n"
      ],
      "metadata": {
        "id": "BdyvR6dUZn3G"
      }
    },
    {
      "cell_type": "markdown",
      "source": [
        "# Conectando ao Banco"
      ],
      "metadata": {
        "id": "ux90Tmyv0Fc5"
      }
    },
    {
      "cell_type": "code",
      "source": [
        "!pip install sqlalchemy pymysql"
      ],
      "metadata": {
        "colab": {
          "base_uri": "https://localhost:8080/"
        },
        "id": "jzEg6pl00Ho-",
        "outputId": "b4368147-35c0-4d28-ef29-80a414aaef7f"
      },
      "execution_count": null,
      "outputs": [
        {
          "output_type": "stream",
          "name": "stdout",
          "text": [
            "Requirement already satisfied: sqlalchemy in /usr/local/lib/python3.10/dist-packages (2.0.24)\n",
            "Collecting pymysql\n",
            "  Downloading PyMySQL-1.1.0-py3-none-any.whl (44 kB)\n",
            "\u001b[?25l     \u001b[90m━━━━━━━━━━━━━━━━━━━━━━━━━━━━━━━━━━━━━━━━\u001b[0m \u001b[32m0.0/44.8 kB\u001b[0m \u001b[31m?\u001b[0m eta \u001b[36m-:--:--\u001b[0m\r\u001b[2K     \u001b[90m━━━━━━━━━━━━━━━━━━━━━━━━━━━━━━━━━━━━━━━━\u001b[0m \u001b[32m44.8/44.8 kB\u001b[0m \u001b[31m1.6 MB/s\u001b[0m eta \u001b[36m0:00:00\u001b[0m\n",
            "\u001b[?25hRequirement already satisfied: typing-extensions>=4.2.0 in /usr/local/lib/python3.10/dist-packages (from sqlalchemy) (4.5.0)\n",
            "Requirement already satisfied: greenlet!=0.4.17 in /usr/local/lib/python3.10/dist-packages (from sqlalchemy) (3.0.3)\n",
            "Installing collected packages: pymysql\n",
            "Successfully installed pymysql-1.1.0\n"
          ]
        }
      ]
    },
    {
      "cell_type": "code",
      "source": [
        "from sqlalchemy import create_engine"
      ],
      "metadata": {
        "id": "B9UjGXYFUZnU"
      },
      "execution_count": null,
      "outputs": []
    },
    {
      "cell_type": "code",
      "source": [
        "# Certifique-se de usar os nomes de variáveis corretos\n",
        "connection_string = f\"mysql+pymysql://{usuario}:{senha}@{host}:{porta}/{database}\"\n",
        "\n",
        "# Criar o engine de conexão\n",
        "engine = create_engine(connection_string)\n",
        "\n",
        "# Testar a conexão\n",
        "try:\n",
        "    with engine.connect() as connection:\n",
        "        result = connection.execute(\"SELECT 1\")\n",
        "        for row in result:\n",
        "            print(row)  # Deve imprimir (1,)\n",
        "    print(\"Conexão bem-sucedida!\")\n",
        "except Exception as e:\n",
        "    print(f\"Erro ao conectar ao banco de dados: {e}\")\n"
      ],
      "metadata": {
        "colab": {
          "base_uri": "https://localhost:8080/"
        },
        "id": "MsT3En_q0Jd9",
        "outputId": "4bab4842-23f9-442e-9aef-ba07562f9f2e"
      },
      "execution_count": null,
      "outputs": [
        {
          "output_type": "stream",
          "name": "stdout",
          "text": [
            "Erro ao conectar ao banco de dados: (pymysql.err.OperationalError) (2003, \"Can't connect to MySQL server on '127.0.0.1' ([Errno 111] Connection refused)\")\n",
            "(Background on this error at: https://sqlalche.me/e/20/e3q8)\n"
          ]
        }
      ]
    },
    {
      "cell_type": "code",
      "source": [
        "dados_filtrados.to_sql('dados_rais', con=engine, index=False, if_exists='append', chunksize=500)"
      ],
      "metadata": {
        "id": "x3eFBfaRUdPc"
      },
      "execution_count": null,
      "outputs": []
    }
  ]
}